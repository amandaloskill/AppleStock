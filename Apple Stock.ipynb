{
 "cells": [
  {
   "cell_type": "markdown",
   "id": "ed42a6b6",
   "metadata": {},
   "source": [
    "# Importing libraries and dataset"
   ]
  },
  {
   "cell_type": "code",
   "execution_count": 1,
   "id": "c5246d5e",
   "metadata": {},
   "outputs": [],
   "source": [
    "#Importing libraries\n",
    "\n",
    "import pandas as pd\n",
    "import numpy as np\n",
    "import matplotlib.pyplot as plt\n",
    "import seaborn as sns"
   ]
  },
  {
   "cell_type": "code",
   "execution_count": 2,
   "id": "aa9a9bcc",
   "metadata": {},
   "outputs": [
    {
     "data": {
      "text/html": [
       "<div>\n",
       "<style scoped>\n",
       "    .dataframe tbody tr th:only-of-type {\n",
       "        vertical-align: middle;\n",
       "    }\n",
       "\n",
       "    .dataframe tbody tr th {\n",
       "        vertical-align: top;\n",
       "    }\n",
       "\n",
       "    .dataframe thead th {\n",
       "        text-align: right;\n",
       "    }\n",
       "</style>\n",
       "<table border=\"1\" class=\"dataframe\">\n",
       "  <thead>\n",
       "    <tr style=\"text-align: right;\">\n",
       "      <th></th>\n",
       "      <th>Date</th>\n",
       "      <th>Open</th>\n",
       "      <th>High</th>\n",
       "      <th>Low</th>\n",
       "      <th>Close</th>\n",
       "      <th>Volume</th>\n",
       "      <th>Adj Close</th>\n",
       "    </tr>\n",
       "  </thead>\n",
       "  <tbody>\n",
       "    <tr>\n",
       "      <th>0</th>\n",
       "      <td>2014-07-08</td>\n",
       "      <td>96.27</td>\n",
       "      <td>96.80</td>\n",
       "      <td>93.92</td>\n",
       "      <td>95.35</td>\n",
       "      <td>65130000</td>\n",
       "      <td>95.35</td>\n",
       "    </tr>\n",
       "    <tr>\n",
       "      <th>1</th>\n",
       "      <td>2014-07-07</td>\n",
       "      <td>94.14</td>\n",
       "      <td>95.99</td>\n",
       "      <td>94.10</td>\n",
       "      <td>95.97</td>\n",
       "      <td>56305400</td>\n",
       "      <td>95.97</td>\n",
       "    </tr>\n",
       "    <tr>\n",
       "      <th>2</th>\n",
       "      <td>2014-07-03</td>\n",
       "      <td>93.67</td>\n",
       "      <td>94.10</td>\n",
       "      <td>93.20</td>\n",
       "      <td>94.03</td>\n",
       "      <td>22891800</td>\n",
       "      <td>94.03</td>\n",
       "    </tr>\n",
       "    <tr>\n",
       "      <th>3</th>\n",
       "      <td>2014-07-02</td>\n",
       "      <td>93.87</td>\n",
       "      <td>94.06</td>\n",
       "      <td>93.09</td>\n",
       "      <td>93.48</td>\n",
       "      <td>28420900</td>\n",
       "      <td>93.48</td>\n",
       "    </tr>\n",
       "    <tr>\n",
       "      <th>4</th>\n",
       "      <td>2014-07-01</td>\n",
       "      <td>93.52</td>\n",
       "      <td>94.07</td>\n",
       "      <td>93.13</td>\n",
       "      <td>93.52</td>\n",
       "      <td>38170200</td>\n",
       "      <td>93.52</td>\n",
       "    </tr>\n",
       "  </tbody>\n",
       "</table>\n",
       "</div>"
      ],
      "text/plain": [
       "         Date   Open   High    Low  Close    Volume  Adj Close\n",
       "0  2014-07-08  96.27  96.80  93.92  95.35  65130000      95.35\n",
       "1  2014-07-07  94.14  95.99  94.10  95.97  56305400      95.97\n",
       "2  2014-07-03  93.67  94.10  93.20  94.03  22891800      94.03\n",
       "3  2014-07-02  93.87  94.06  93.09  93.48  28420900      93.48\n",
       "4  2014-07-01  93.52  94.07  93.13  93.52  38170200      93.52"
      ]
     },
     "execution_count": 2,
     "metadata": {},
     "output_type": "execute_result"
    }
   ],
   "source": [
    "#Importing dataset\n",
    "\n",
    "apple = pd.read_csv('Desktop/applestock.csv')\n",
    "\n",
    "#Checking it imported\n",
    "\n",
    "apple.head()"
   ]
  },
  {
   "cell_type": "markdown",
   "id": "468ba5e1",
   "metadata": {},
   "source": [
    "# 1. Check out the type of the columns."
   ]
  },
  {
   "cell_type": "code",
   "execution_count": 3,
   "id": "fe3ebf6d",
   "metadata": {},
   "outputs": [
    {
     "name": "stdout",
     "output_type": "stream",
     "text": [
      "Date          object\n",
      "Open         float64\n",
      "High         float64\n",
      "Low          float64\n",
      "Close        float64\n",
      "Volume         int64\n",
      "Adj Close    float64\n",
      "dtype: object\n"
     ]
    }
   ],
   "source": [
    "print(apple.dtypes)"
   ]
  },
  {
   "cell_type": "markdown",
   "id": "097a19fa",
   "metadata": {},
   "source": [
    "# 2. Transform the date column as a datetime type."
   ]
  },
  {
   "cell_type": "code",
   "execution_count": 4,
   "id": "926911b9",
   "metadata": {},
   "outputs": [
    {
     "name": "stdout",
     "output_type": "stream",
     "text": [
      "Date         datetime64[ns]\n",
      "Open                float64\n",
      "High                float64\n",
      "Low                 float64\n",
      "Close               float64\n",
      "Volume                int64\n",
      "Adj Close           float64\n",
      "dtype: object\n"
     ]
    }
   ],
   "source": [
    "apple['Date'] = pd.to_datetime(apple['Date'])\n",
    "\n",
    "#Making sure I changed it correctly\n",
    "\n",
    "print(apple.dtypes)"
   ]
  },
  {
   "cell_type": "markdown",
   "id": "9907ecc6",
   "metadata": {},
   "source": [
    "# 3. Set the date as the index."
   ]
  },
  {
   "cell_type": "code",
   "execution_count": 5,
   "id": "8dc9cc03",
   "metadata": {},
   "outputs": [
    {
     "data": {
      "text/html": [
       "<div>\n",
       "<style scoped>\n",
       "    .dataframe tbody tr th:only-of-type {\n",
       "        vertical-align: middle;\n",
       "    }\n",
       "\n",
       "    .dataframe tbody tr th {\n",
       "        vertical-align: top;\n",
       "    }\n",
       "\n",
       "    .dataframe thead th {\n",
       "        text-align: right;\n",
       "    }\n",
       "</style>\n",
       "<table border=\"1\" class=\"dataframe\">\n",
       "  <thead>\n",
       "    <tr style=\"text-align: right;\">\n",
       "      <th></th>\n",
       "      <th>Open</th>\n",
       "      <th>High</th>\n",
       "      <th>Low</th>\n",
       "      <th>Close</th>\n",
       "      <th>Volume</th>\n",
       "      <th>Adj Close</th>\n",
       "    </tr>\n",
       "    <tr>\n",
       "      <th>Date</th>\n",
       "      <th></th>\n",
       "      <th></th>\n",
       "      <th></th>\n",
       "      <th></th>\n",
       "      <th></th>\n",
       "      <th></th>\n",
       "    </tr>\n",
       "  </thead>\n",
       "  <tbody>\n",
       "    <tr>\n",
       "      <th>2014-07-08</th>\n",
       "      <td>96.27</td>\n",
       "      <td>96.80</td>\n",
       "      <td>93.92</td>\n",
       "      <td>95.35</td>\n",
       "      <td>65130000</td>\n",
       "      <td>95.35</td>\n",
       "    </tr>\n",
       "    <tr>\n",
       "      <th>2014-07-07</th>\n",
       "      <td>94.14</td>\n",
       "      <td>95.99</td>\n",
       "      <td>94.10</td>\n",
       "      <td>95.97</td>\n",
       "      <td>56305400</td>\n",
       "      <td>95.97</td>\n",
       "    </tr>\n",
       "    <tr>\n",
       "      <th>2014-07-03</th>\n",
       "      <td>93.67</td>\n",
       "      <td>94.10</td>\n",
       "      <td>93.20</td>\n",
       "      <td>94.03</td>\n",
       "      <td>22891800</td>\n",
       "      <td>94.03</td>\n",
       "    </tr>\n",
       "    <tr>\n",
       "      <th>2014-07-02</th>\n",
       "      <td>93.87</td>\n",
       "      <td>94.06</td>\n",
       "      <td>93.09</td>\n",
       "      <td>93.48</td>\n",
       "      <td>28420900</td>\n",
       "      <td>93.48</td>\n",
       "    </tr>\n",
       "    <tr>\n",
       "      <th>2014-07-01</th>\n",
       "      <td>93.52</td>\n",
       "      <td>94.07</td>\n",
       "      <td>93.13</td>\n",
       "      <td>93.52</td>\n",
       "      <td>38170200</td>\n",
       "      <td>93.52</td>\n",
       "    </tr>\n",
       "  </tbody>\n",
       "</table>\n",
       "</div>"
      ],
      "text/plain": [
       "             Open   High    Low  Close    Volume  Adj Close\n",
       "Date                                                       \n",
       "2014-07-08  96.27  96.80  93.92  95.35  65130000      95.35\n",
       "2014-07-07  94.14  95.99  94.10  95.97  56305400      95.97\n",
       "2014-07-03  93.67  94.10  93.20  94.03  22891800      94.03\n",
       "2014-07-02  93.87  94.06  93.09  93.48  28420900      93.48\n",
       "2014-07-01  93.52  94.07  93.13  93.52  38170200      93.52"
      ]
     },
     "execution_count": 5,
     "metadata": {},
     "output_type": "execute_result"
    }
   ],
   "source": [
    "apples = apple.set_index('Date', drop=True)\n",
    "\n",
    "#Checking it worked correctly\n",
    "\n",
    "apples.head()"
   ]
  },
  {
   "cell_type": "markdown",
   "id": "7cf9e089",
   "metadata": {},
   "source": [
    "# 4. Are there any duplicate dates?"
   ]
  },
  {
   "cell_type": "code",
   "execution_count": 6,
   "id": "d4453d3f",
   "metadata": {},
   "outputs": [
    {
     "name": "stdout",
     "output_type": "stream",
     "text": [
      "[False False False ... False False False]\n"
     ]
    }
   ],
   "source": [
    "print(apples.index.duplicated())"
   ]
  },
  {
   "cell_type": "markdown",
   "id": "68df724b",
   "metadata": {},
   "source": [
    "# 5. Sort the index so the first entry is the oldest date."
   ]
  },
  {
   "cell_type": "code",
   "execution_count": 7,
   "id": "e45c6ab4",
   "metadata": {},
   "outputs": [
    {
     "name": "stdout",
     "output_type": "stream",
     "text": [
      "             Open   High    Low  Close     Volume  Adj Close\n",
      "Date                                                        \n",
      "1980-12-12  28.75  28.87  28.75  28.75  117258400       0.45\n",
      "1980-12-15  27.38  27.38  27.25  27.25   43971200       0.42\n",
      "1980-12-16  25.37  25.37  25.25  25.25   26432000       0.39\n",
      "1980-12-17  25.87  26.00  25.87  25.87   21610400       0.40\n",
      "1980-12-18  26.63  26.75  26.63  26.63   18362400       0.41\n",
      "...           ...    ...    ...    ...        ...        ...\n",
      "2014-07-01  93.52  94.07  93.13  93.52   38170200      93.52\n",
      "2014-07-02  93.87  94.06  93.09  93.48   28420900      93.48\n",
      "2014-07-03  93.67  94.10  93.20  94.03   22891800      94.03\n",
      "2014-07-07  94.14  95.99  94.10  95.97   56305400      95.97\n",
      "2014-07-08  96.27  96.80  93.92  95.35   65130000      95.35\n",
      "\n",
      "[8465 rows x 6 columns]\n"
     ]
    }
   ],
   "source": [
    "apples = apples.sort_index()\n",
    "\n",
    "#Checking it sorted\n",
    "\n",
    "print(apples)"
   ]
  },
  {
   "cell_type": "markdown",
   "id": "29ac3dcb",
   "metadata": {},
   "source": [
    "# 6. Get the last business day of each month."
   ]
  },
  {
   "cell_type": "code",
   "execution_count": 35,
   "id": "b995ebd0",
   "metadata": {},
   "outputs": [
    {
     "name": "stdout",
     "output_type": "stream",
     "text": [
      "            date last_business_day\n",
      "0     1980-12-12        1980-12-29\n",
      "1     1980-12-13        1980-12-29\n",
      "2     1980-12-14        1980-12-29\n",
      "3     1980-12-15        1980-12-29\n",
      "4     1980-12-16        1980-12-29\n",
      "...          ...               ...\n",
      "12257 2014-07-04        2014-07-29\n",
      "12258 2014-07-05        2014-07-29\n",
      "12259 2014-07-06        2014-07-29\n",
      "12260 2014-07-07        2014-07-29\n",
      "12261 2014-07-08        2014-07-29\n",
      "\n",
      "[12262 rows x 2 columns]\n"
     ]
    }
   ],
   "source": [
    "from pandas.tseries.offsets import BMonthEnd, CustomBusinessDay\n",
    "from pandas.tseries.holiday import AbstractHolidayCalendar, Holiday, nearest_workday\n",
    "\n",
    "# Creating a sample dataframe with dates\n",
    "\n",
    "df = pd.DataFrame({'date': pd.date_range('1980-12-12', '2014-07-08', freq='D')})\n",
    "\n",
    "# Getting the last business day of each month\n",
    "\n",
    "last_business_days = [d - pd.offsets.BDay() for d in df['date'] + pd.offsets.MonthEnd(0)]\n",
    "\n",
    "# Adding a new column to the dataframe with the last business day of each month\n",
    "\n",
    "df['last_business_day'] = [d - bday for d in last_business_days]\n",
    "\n",
    "#Making sure it worked correctly\n",
    "\n",
    "print(df[['date', 'last_business_day']])"
   ]
  },
  {
   "cell_type": "markdown",
   "id": "d2c1705e",
   "metadata": {},
   "source": [
    "# 7. What is the difference in days between the first day and the oldest?"
   ]
  },
  {
   "cell_type": "code",
   "execution_count": 36,
   "id": "cdd58709",
   "metadata": {},
   "outputs": [
    {
     "name": "stdout",
     "output_type": "stream",
     "text": [
      "12261\n"
     ]
    }
   ],
   "source": [
    "# Getting the oldest date \n",
    "oldest_date = apple['Date'].min()\n",
    "\n",
    "# Getting the newest date \n",
    "newest_date = apple['Date'].max()\n",
    "\n",
    "# Calculating the difference\n",
    "difference = newest_date - oldest_date\n",
    "\n",
    "# Calculate the difference using timedelta method\n",
    "difference_td = difference.days\n",
    "\n",
    "# Print the difference\n",
    "print(difference_td)"
   ]
  },
  {
   "cell_type": "markdown",
   "id": "75dd870c",
   "metadata": {},
   "source": [
    "# 8. How many months in the data do we have?"
   ]
  },
  {
   "cell_type": "code",
   "execution_count": 19,
   "id": "9373de95",
   "metadata": {},
   "outputs": [
    {
     "name": "stdout",
     "output_type": "stream",
     "text": [
      "404\n"
     ]
    }
   ],
   "source": [
    "# Creating a sample DataFrame with dates\n",
    "dates = pd.date_range(start='1980-12-12', end='2014-07-08', freq='D')\n",
    "df = pd.DataFrame({'Date': dates})\n",
    "\n",
    "# Creating a new column with year and month information\n",
    "df['YearMonth'] = df['Date'].dt.strftime('%Y-%m')\n",
    "\n",
    "# Grouping the DataFrame by YearMonth and count the number of unique values\n",
    "number_months = df.groupby('YearMonth')['Date'].nunique().count()\n",
    "\n",
    "print(number_months)"
   ]
  },
  {
   "cell_type": "markdown",
   "id": "c9004109",
   "metadata": {},
   "source": [
    "# 9. Plot the 'Adj Close' value."
   ]
  },
  {
   "cell_type": "code",
   "execution_count": 20,
   "id": "3c9f77f7",
   "metadata": {},
   "outputs": [
    {
     "data": {
      "image/png": "[encoded data removed]",
      "text/plain": [
       "<Figure size 1000x500 with 1 Axes>"
      ]
     },
     "metadata": {},
     "output_type": "display_data"
    }
   ],
   "source": [
    "plt.figure(figsize=(10,5))\n",
    "plt.plot(apple['Date'], apple['Adj Close'])\n",
    "plt.title('Adj Close Over Time')\n",
    "plt.xlabel('Date')\n",
    "plt.ylabel('Adj Close')\n",
    "plt.show()"
   ]
  },
  {
   "cell_type": "markdown",
   "id": "d621053c",
   "metadata": {},
   "source": [
    "# 10. Create your own question and answer it. Create a plot that shows the highs and lows."
   ]
  },
  {
   "cell_type": "code",
   "execution_count": 21,
   "id": "8a175eed",
   "metadata": {},
   "outputs": [
    {
     "data": {
      "image/png": "[encoded data removed]",
      "text/plain": [
       "<Figure size 640x480 with 1 Axes>"
      ]
     },
     "metadata": {},
     "output_type": "display_data"
    }
   ],
   "source": [
    "plt.plot(apple['Date'], apple['High'], label='High')\n",
    "plt.plot(apple['Date'], apple['Low'], label='Low')\n",
    "plt.xlabel('Date')\n",
    "plt.ylabel('Cost')\n",
    "plt.title('High and Low Over Time ')\n",
    "plt.legend()\n",
    "plt.show()"
   ]
  }
 ],
 "metadata": {
  "kernelspec": {
   "display_name": "Python 3 (ipykernel)",
   "language": "python",
   "name": "python3"
  },
  "language_info": {
   "codemirror_mode": {
    "name": "ipython",
    "version": 3
   },
   "file_extension": ".py",
   "mimetype": "text/x-python",
   "name": "python",
   "nbconvert_exporter": "python",
   "pygments_lexer": "ipython3",
   "version": "3.9.13"
  }
 },
 "nbformat": 4,
 "nbformat_minor": 5
}
